{
 "cells": [
  {
   "cell_type": "code",
   "execution_count": 2,
   "metadata": {
    "execution": {
     "iopub.execute_input": "2023-03-22T08:41:36.505229Z",
     "iopub.status.busy": "2023-03-22T08:41:36.504869Z",
     "iopub.status.idle": "2023-03-22T08:41:45.474557Z",
     "shell.execute_reply": "2023-03-22T08:41:45.465860Z",
     "shell.execute_reply.started": "2023-03-22T08:41:36.505194Z"
    },
    "id": "yTLZzkd-lFTF"
   },
   "outputs": [],
   "source": [
    "def setup():\n",
    "    import tqdm\n",
    "    import random\n",
    "    import pathlib\n",
    "    import itertools\n",
    "    import collections\n",
    "\n",
    "    import numpy as np\n",
    "    # import seaborn as sns\n",
    "    import matplotlib.pyplot as plt\n",
    "\n",
    "    import keras\n",
    "    import tensorflow as tf\n",
    "    import tensorflow_hub as hub\n",
    "    from tensorflow.keras import layers\n",
    "    from tensorflow.keras.losses import CategoricalCrossentropy\n",
    "\n",
    "    from official.projects.movinet.modeling import movinet\n",
    "    from official.projects.movinet.modeling import movinet_model\n",
    "    import tensorflow_addons as tfa\n",
    "    model_id = 'a2'\n",
    "    resolution = 224\n",
    "    batch_size=8\n",
    "    num_frames=10\n",
    "    tf.keras.backend.clear_session()\n",
    "    use_positional_encoding = model_id in {'a3','a4','a5'}\n",
    "\n",
    "    backbone = movinet.Movinet(model_id=model_id, conv_type ='2plus1d', se_type='2plus3d', activation='hard_swish', gating_activation='hard_sigmoid', use_positional_encoding=use_positional_encoding )\n",
    "    backbone.trainable = True\n",
    "\n",
    "    model = movinet_model.MovinetClassifier(backbone=backbone, num_classes=600)\n",
    "    model.build([None, None, None, None, 3])\n",
    "\n",
    "    checkpoint_callback = keras.callbacks.ModelCheckpoint(\n",
    "            filepath='C:\\Users\\Asus\\Desktop\\Fds project\\driver_distraction\\cp.ckpt3',\n",
    "            monitor=\"val_loss\",\n",
    "            save_best_only=True,\n",
    "\n",
    "        )\n",
    "\n",
    "    def build_classifier(batch_size, num_frames, resolution, backbone, num_classes):\n",
    "        model = movinet_model.MovinetClassifier(\n",
    "        backbone=backbone,\n",
    "        num_classes=num_classes)\n",
    "        model.build([batch_size, num_frames, resolution, resolution, 3])\n",
    "\n",
    "        return model\n",
    "\n",
    "    model = build_classifier(batch_size, num_frames, resolution, backbone, 8)\n",
    "\n",
    "    num_epochs = 1\n",
    "\n",
    "    loss_obj = tf.keras.losses.CategoricalCrossentropy(from_logits=True)\n",
    "\n",
    "    optimizer = tfa.optimizers.AdaBelief(learning_rate = 0.0007, weight_decay= 0.0001)\n",
    "    model.compile(loss=loss_obj, optimizer=optimizer, metrics=['accuracy'])\n",
    "    checkpoint = tf.train.Checkpoint(model)\n",
    "    checkpoint.restore(r'C:\\Users\\Asus\\Desktop\\Fds project\\driver_distraction\\cp.cpkt1')"
   ]
  },
  {
   "cell_type": "code",
   "execution_count": 3,
   "metadata": {
    "colab": {
     "base_uri": "https://localhost:8080/",
     "height": 1000
    },
    "id": "DlMO_x4Dabtj",
    "outputId": "a19c9f84-294e-4e9b-aafc-476163764fc3"
   },
   "outputs": [],
   "source": [
    "def play_demo(vid):\n",
    "    import cv2\n",
    "    import numpy as np\n",
    "    # from google.colab.patches import cv2_imshow\n",
    "    options=['Safe Driving','Hair and Makeup', 'Infotainment System','Texting Left','Texting Right','Call left','Call Right','Drowsy']\n",
    "    # Load a video file using OpenCV\n",
    "    cap = cv2.VideoCapture(vid)\n",
    "\n",
    "    # Initialize an empty array to store the video frames\n",
    "    video_frames = np.zeros((1, 10, 224, 224, 3), dtype=np.float32)\n",
    "\n",
    "    # Loop through the video frames and store them in the array\n",
    "    j=1\n",
    "    while(j):\n",
    "        for i in range(10):\n",
    "            ret, frame = cap.read()\n",
    "            if ret==False:\n",
    "                j=0\n",
    "                break\n",
    "            frame = cv2.resize(frame, (224, 224))\n",
    "            frame = frame.astype(np.float32)/255.0\n",
    "            rgb_frame = cv2.cvtColor(frame, cv2.COLOR_BGR2RGB)\n",
    "            rgb_frame[:, :, [0, 2]] = rgb_frame[:, :, [2, 0]]\n",
    "\n",
    "            video_frames[0, i, :, :, :] = rgb_frame\n",
    "        if (j==1):\n",
    "            preds=model.predict(video_frames)\n",
    "            prediction_p = tf.nn.softmax(preds)\n",
    "        yhat = np.argmax(prediction_p,axis=1)\n",
    "        for i in range(10):\n",
    "            frame = video_frames[0, i, :, :, :]\n",
    "            # prediction = prediction_p[0, i]\n",
    "            # predicted_class = np.argmax((prediction))\n",
    "            cv2.putText(frame, f\"{options[int(yhat)]}\", (10, 30), cv2.FONT_HERSHEY_SIMPLEX, 0.5, (0, 255, 0), 2)\n",
    "            cv2.imshow('frame',frame)\n",
    "            cv2.waitKey(150)\n",
    "\n",
    "\n",
    "    # Close all windows\n",
    "    cv2.destroyAllWindows()"
   ]
  },
  {
   "cell_type": "code",
   "execution_count": 4,
   "metadata": {},
   "outputs": [
    {
     "name": "stdout",
     "output_type": "stream",
     "text": [
      "WARNING:tensorflow:Detecting that an object or model or tf.train.Checkpoint is being deleted with unrestored values. See the following logs for the specific values in question. To silence these warnings, use `status.expect_partial()`. See https://www.tensorflow.org/api_docs/python/tf/train/Checkpoint#restorefor details about the status object returned by the restore function.\n"
     ]
    },
    {
     "name": "stderr",
     "output_type": "stream",
     "text": [
      "WARNING:tensorflow:Detecting that an object or model or tf.train.Checkpoint is being deleted with unrestored values. See the following logs for the specific values in question. To silence these warnings, use `status.expect_partial()`. See https://www.tensorflow.org/api_docs/python/tf/train/Checkpoint#restorefor details about the status object returned by the restore function.\n"
     ]
    },
    {
     "name": "stdout",
     "output_type": "stream",
     "text": [
      "WARNING:tensorflow:Value in checkpoint could not be found in the restored object: (root).optimizer.iter\n"
     ]
    },
    {
     "name": "stderr",
     "output_type": "stream",
     "text": [
      "WARNING:tensorflow:Value in checkpoint could not be found in the restored object: (root).optimizer.iter\n"
     ]
    },
    {
     "name": "stdout",
     "output_type": "stream",
     "text": [
      "WARNING:tensorflow:Value in checkpoint could not be found in the restored object: (root).optimizer.beta_1\n"
     ]
    },
    {
     "name": "stderr",
     "output_type": "stream",
     "text": [
      "WARNING:tensorflow:Value in checkpoint could not be found in the restored object: (root).optimizer.beta_1\n"
     ]
    },
    {
     "name": "stdout",
     "output_type": "stream",
     "text": [
      "WARNING:tensorflow:Value in checkpoint could not be found in the restored object: (root).optimizer.beta_2\n"
     ]
    },
    {
     "name": "stderr",
     "output_type": "stream",
     "text": [
      "WARNING:tensorflow:Value in checkpoint could not be found in the restored object: (root).optimizer.beta_2\n"
     ]
    },
    {
     "name": "stdout",
     "output_type": "stream",
     "text": [
      "WARNING:tensorflow:Value in checkpoint could not be found in the restored object: (root).optimizer.decay\n"
     ]
    },
    {
     "name": "stderr",
     "output_type": "stream",
     "text": [
      "WARNING:tensorflow:Value in checkpoint could not be found in the restored object: (root).optimizer.decay\n"
     ]
    },
    {
     "name": "stdout",
     "output_type": "stream",
     "text": [
      "WARNING:tensorflow:Value in checkpoint could not be found in the restored object: (root).optimizer.learning_rate\n"
     ]
    },
    {
     "name": "stderr",
     "output_type": "stream",
     "text": [
      "WARNING:tensorflow:Value in checkpoint could not be found in the restored object: (root).optimizer.learning_rate\n"
     ]
    },
    {
     "name": "stdout",
     "output_type": "stream",
     "text": [
      "WARNING:tensorflow:Value in checkpoint could not be found in the restored object: (root).optimizer.min_lr\n"
     ]
    },
    {
     "name": "stderr",
     "output_type": "stream",
     "text": [
      "WARNING:tensorflow:Value in checkpoint could not be found in the restored object: (root).optimizer.min_lr\n"
     ]
    },
    {
     "name": "stdout",
     "output_type": "stream",
     "text": [
      "WARNING:tensorflow:Value in checkpoint could not be found in the restored object: (root).optimizer.sma_threshold\n"
     ]
    },
    {
     "name": "stderr",
     "output_type": "stream",
     "text": [
      "WARNING:tensorflow:Value in checkpoint could not be found in the restored object: (root).optimizer.sma_threshold\n"
     ]
    },
    {
     "name": "stdout",
     "output_type": "stream",
     "text": [
      "WARNING:tensorflow:Value in checkpoint could not be found in the restored object: (root).optimizer.total_steps\n"
     ]
    },
    {
     "name": "stderr",
     "output_type": "stream",
     "text": [
      "WARNING:tensorflow:Value in checkpoint could not be found in the restored object: (root).optimizer.total_steps\n"
     ]
    },
    {
     "name": "stdout",
     "output_type": "stream",
     "text": [
      "WARNING:tensorflow:Value in checkpoint could not be found in the restored object: (root).optimizer.warmup_proportion\n"
     ]
    },
    {
     "name": "stderr",
     "output_type": "stream",
     "text": [
      "WARNING:tensorflow:Value in checkpoint could not be found in the restored object: (root).optimizer.warmup_proportion\n"
     ]
    },
    {
     "name": "stdout",
     "output_type": "stream",
     "text": [
      "WARNING:tensorflow:Value in checkpoint could not be found in the restored object: (root).optimizer.weight_decay\n"
     ]
    },
    {
     "name": "stderr",
     "output_type": "stream",
     "text": [
      "WARNING:tensorflow:Value in checkpoint could not be found in the restored object: (root).optimizer.weight_decay\n"
     ]
    }
   ],
   "source": [
    "setup()"
   ]
  },
  {
   "cell_type": "code",
   "execution_count": null,
   "metadata": {},
   "outputs": [],
   "source": [
    "play_demo(\"C:\\Users\\Asus\\Desktop\\Fds project\\ok1.avi\")"
   ]
  }
 ],
 "metadata": {
  "accelerator": "GPU",
  "colab": {
   "provenance": []
  },
  "gpuClass": "standard",
  "kernelspec": {
   "display_name": "Python 3 (ipykernel)",
   "language": "python",
   "name": "python3"
  },
  "language_info": {
   "codemirror_mode": {
    "name": "ipython",
    "version": 3
   },
   "file_extension": ".py",
   "mimetype": "text/x-python",
   "name": "python",
   "nbconvert_exporter": "python",
   "pygments_lexer": "ipython3",
   "version": "3.10.9"
  }
 },
 "nbformat": 4,
 "nbformat_minor": 1
}
